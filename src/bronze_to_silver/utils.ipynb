{
 "cells": [
  {
   "cell_type": "code",
   "execution_count": 0,
   "metadata": {
    "application/vnd.databricks.v1+cell": {
     "cellMetadata": {
      "byteLimit": 2048000,
      "rowLimit": 10000
     },
     "inputWidgets": {},
     "nuid": "ac26244e-c9d4-41b6-8e11-e87d99850d0a",
     "showTitle": true,
     "tableResultSettingsMap": {},
     "title": "Snake Case Conversion and DataFrame Joins"
    }
   },
   "outputs": [],
   "source": [
    "import re\n",
    "from pyspark.sql import DataFrame\n",
    "\n",
    "def to_snake_case(name):\n",
    "    name = re.sub(r\"([a-z0-9])([A-Z])\", r\"\\1_\\2\", name)\n",
    "    name = re.sub(r\"([A-Z]+)([A-Z][a-z])\", r\"\\1_\\2\", name)\n",
    "    return name.lower()\n",
    "\n",
    "\n",
    "def clean_and_snake_case_columns(df):\n",
    "    cleaned_cols = []\n",
    "    for col_name in df.columns:\n",
    "        cleaned_name = re.sub(r\"[ (){};\\n\\t=]\", \"\", col_name).strip().replace(\" \", \"_\")\n",
    "        snake_case_name = to_snake_case(cleaned_name)\n",
    "        cleaned_cols.append(snake_case_name)\n",
    "    return df.toDF(*cleaned_cols)\n",
    "\n",
    "\n",
    "def read_delta_with_snake_case(spark, path):\n",
    "    df = spark.read.format(\"delta\").load(path)\n",
    "    return clean_and_snake_case_columns(df)\n",
    "\n",
    "\n",
    "def get_store_product_data(product_df, store_df):\n",
    "    return store_df.join(product_df, on=\"store_id\", how=\"inner\")\n",
    "\n",
    "\n",
    "def enrich_sales_with_store_product(sales_df, store_product_df):\n",
    "    return sales_df.join(store_product_df, on=\"product_id\", how=\"inner\")\n"
   ]
  }
 ],
 "metadata": {
  "application/vnd.databricks.v1+notebook": {
   "computePreferences": null,
   "dashboards": [],
   "environmentMetadata": {
    "base_environment": "",
    "environment_version": "2"
   },
   "inputWidgetPreferences": null,
   "language": "python",
   "notebookMetadata": {
    "pythonIndentUnit": 4
   },
   "notebookName": "utils",
   "widgets": {}
  },
  "language_info": {
   "name": "python"
  }
 },
 "nbformat": 4,
 "nbformat_minor": 0
}
