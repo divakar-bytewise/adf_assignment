{
 "cells": [
  {
   "cell_type": "code",
   "execution_count": 0,
   "metadata": {
    "application/vnd.databricks.v1+cell": {
     "cellMetadata": {
      "byteLimit": 2048000,
      "rowLimit": 10000
     },
     "inputWidgets": {},
     "nuid": "35df89ef-0911-4bc8-a0be-2d6ad42c0796",
     "showTitle": false,
     "tableResultSettingsMap": {},
     "title": ""
    }
   },
   "outputs": [],
   "source": [
    "%run /Workspace/Users/appujack799@gmail.com/azure_data_factory_assignment/src/bronze_to_silver/utils"
   ]
  },
  {
   "cell_type": "code",
   "execution_count": 0,
   "metadata": {
    "application/vnd.databricks.v1+cell": {
     "cellMetadata": {
      "byteLimit": 2048000,
      "rowLimit": 10000
     },
     "inputWidgets": {},
     "nuid": "6fc7f609-74ad-4dc2-aec8-c6801fd6d442",
     "showTitle": false,
     "tableResultSettingsMap": {
      "0": {
       "dataGridStateBlob": "{\"version\":1,\"tableState\":{\"columnPinning\":{\"left\":[\"#row_number#\"],\"right\":[]},\"columnSizing\":{},\"columnVisibility\":{}},\"settings\":{\"columns\":{\"image_url\":{\"format\":{\"preset\":\"string-preset-url\"}}}},\"syncTimestamp\":1754574586516}",
       "filterBlob": null,
       "queryPlanFiltersBlob": null,
       "tableResultIndex": 0
      }
     },
     "title": ""
    },
    "jupyter": {
     "outputs_hidden": true
    }
   },
   "outputs": [],
   "source": [
    "from pyspark.sql.functions import col\n",
    "\n",
    "silver_base_path = \"abfss://silver@adfassignment07.dfs.core.windows.net/sales-view\"\n",
    "# gold_output_path = \"abfss://gold@adfassignment07.dfs.core.windows.net/sales_view/store_product_sales_analysis\"\n",
    "gold_output_path = \"abfss://unity-catalog-storage@dbstoragemfqavtqukmr2u.dfs.core.windows.net/1680618956163528/sales_view/store_product_sales_analysis\"\n",
    "\n",
    "sales_df = read_delta_with_snake_case(spark, f\"{silver_base_path}/customer_sales\")\n",
    "product_df = read_delta_with_snake_case(spark, f\"{silver_base_path}/product\")\n",
    "store_df = read_delta_with_snake_case(spark, f\"{silver_base_path}/store\")\n",
    "\n",
    "sales_df = sales_df.withColumnRenamed(\"product__id\", \"product_id\")\n",
    "\n",
    "store_product_df = get_store_product_data(product_df, store_df)\n",
    "\n",
    "final_df = enrich_sales_with_store_product(sales_df, store_product_df)\n",
    "\n",
    "duplicate_cols = [col_name for col_name in final_df.columns if final_df.columns.count(col_name) > 1]\n",
    "if duplicate_cols:\n",
    "    print(f\"Duplicate Columns Detected: {duplicate_cols}\")\n",
    "\n",
    "final_df = final_df.drop(*set(duplicate_cols[1:]))\n",
    "\n",
    "selected_cols = [\n",
    "    \"order_date\", \"category\", \"city\", \"customer_id\", \"order_id\", \"product_id\", \"profit\", \"region\", \"sales\", \"segment\",\n",
    "    \"ship_date\", \"ship_mode\", \"latitude\", \"longitude\",\n",
    "    \"store_name\", \"location\", \"manager_name\", \"product_name\", \"price\", \"stock_quantity\", \"image_url\"\n",
    "]\n",
    "\n",
    "selected_cols = [col for col in selected_cols if col in final_df.columns]\n",
    "\n",
    "final_df = final_df.select(*selected_cols)\n",
    "final_df.display()\n",
    "\n",
    "final_df.write.format(\"delta\").mode(\"overwrite\").option(\"overwriteSchema\", \"true\").save(gold_output_path)\n",
    "\n",
    "spark.sql(\"DROP TABLE IF EXISTS store_product_sales_analysis\")\n",
    "spark.sql(f\"\"\"\n",
    "    CREATE TABLE store_product_sales_analysis\n",
    "    USING DELTA\n",
    "    LOCATION '{gold_output_path}'\n",
    "\"\"\")\n"
   ]
  },
  {
   "cell_type": "code",
   "execution_count": 0,
   "metadata": {
    "application/vnd.databricks.v1+cell": {
     "cellMetadata": {},
     "inputWidgets": {},
     "nuid": "636e7a61-1e73-4c71-86f7-e0e5254c0099",
     "showTitle": false,
     "tableResultSettingsMap": {},
     "title": ""
    }
   },
   "outputs": [],
   "source": []
  }
 ],
 "metadata": {
  "application/vnd.databricks.v1+notebook": {
   "computePreferences": null,
   "dashboards": [],
   "environmentMetadata": {
    "base_environment": "",
    "environment_version": "2"
   },
   "inputWidgetPreferences": null,
   "language": "python",
   "notebookMetadata": {
    "pythonIndentUnit": 4
   },
   "notebookName": "gold_aggregations",
   "widgets": {}
  },
  "language_info": {
   "name": "python"
  }
 },
 "nbformat": 4,
 "nbformat_minor": 0
}
